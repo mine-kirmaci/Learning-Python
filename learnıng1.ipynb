{
 "cells": [
  {
   "cell_type": "markdown",
   "metadata": {},
   "source": [
    "WE ARE LEARNING TOGETHER #1"
   ]
  },
  {
   "cell_type": "code",
   "execution_count": 4,
   "metadata": {},
   "outputs": [
    {
     "name": "stdout",
     "output_type": "stream",
     "text": [
      "False\n",
      "True\n",
      "False\n"
     ]
    }
   ],
   "source": [
    "#is ->  Is ıt equal?\n",
    "x=5\n",
    "y=10\n",
    "print(x is y)\n",
    "x=y\n",
    "print(x is y)\n",
    "print(x is not y)"
   ]
  },
  {
   "cell_type": "code",
   "execution_count": 5,
   "metadata": {},
   "outputs": [
    {
     "name": "stdout",
     "output_type": "stream",
     "text": [
      "True\n"
     ]
    }
   ],
   "source": [
    "#in -> Does ıt contain\n",
    "x=['apple','banana']\n",
    "print('apple' in x)"
   ]
  },
  {
   "cell_type": "markdown",
   "metadata": {},
   "source": [
    "LOOP"
   ]
  },
  {
   "cell_type": "code",
   "execution_count": 14,
   "metadata": {},
   "outputs": [
    {
     "name": "stdout",
     "output_type": "stream",
     "text": [
      "1\n",
      "2\n",
      "3\n",
      "4\n",
      "M\n",
      "I\n",
      "N\n",
      "E\n",
      "S\n",
      "K\n",
      "O\n",
      "P\n",
      "İ\n",
      "A\n",
      "1\n",
      "5\n",
      "8\n",
      "9\n",
      "10\n",
      "k1\n",
      "k2\n",
      "k3\n",
      "('k1', 1)\n",
      "('k2', 2)\n",
      "('k3', 3)\n"
     ]
    }
   ],
   "source": [
    "#prints all elements\n",
    "number=[1,2,3,4]\n",
    "for i in number:\n",
    "    print(i)\n",
    "name=\"MINESKOPİA\"\n",
    "for i in name:\n",
    "    print(i)\n",
    "tuple=(1,5,8,9,10)\n",
    "for i in tuple:\n",
    "    print(i)\n",
    "d={'k1':1,'k2':2,'k3':3}\n",
    "for i in d:\n",
    "    print(i)\n",
    "for i in d.items():\n",
    "    print(i)\n"
   ]
  },
  {
   "cell_type": "code",
   "execution_count": 16,
   "metadata": {},
   "outputs": [
    {
     "name": "stdout",
     "output_type": "stream",
     "text": [
      "Numbers that are multiples of 3 ->\n",
      "3\n",
      "6\n",
      "9\n",
      "Square of odd numbers\n",
      "1\n",
      "9\n",
      "25\n",
      "49\n",
      "81\n",
      "Sum of numbers ->\n",
      "45\n"
     ]
    }
   ],
   "source": [
    "#Question\n",
    "numbers=[1,2,3,4,5,6,7,8,9]\n",
    "#which numbers are multiples of 3?\n",
    "print(\"Numbers that are multiples of 3 ->\")\n",
    "for i in numbers:\n",
    "    if i % 3==0:\n",
    "        print(i)\n",
    "print(\"Square of odd numbers\")\n",
    "for i in numbers:\n",
    "    if i % 2==1:\n",
    "        print(i*i)\n",
    "print(\"Sum of numbers ->\")\n",
    "toplam=0\n",
    "for i in numbers:\n",
    "    toplam +=i\n",
    "print(toplam)\n",
    "    "
   ]
  },
  {
   "cell_type": "code",
   "execution_count": 17,
   "metadata": {},
   "outputs": [
    {
     "name": "stdout",
     "output_type": "stream",
     "text": [
      "Bursa\n",
      "İzmir\n"
     ]
    }
   ],
   "source": [
    "# max 5 characters\n",
    "city=['Bursa','İzmir','İstanbul','Edirne']\n",
    "for i in city:\n",
    "    if len(i)<=5:\n",
    "        print(i)"
   ]
  },
  {
   "cell_type": "code",
   "execution_count": 29,
   "metadata": {},
   "outputs": [
    {
     "name": "stdout",
     "output_type": "stream",
     "text": [
      "18000\n"
     ]
    }
   ],
   "source": [
    "#price information\n",
    "info=[\n",
    "    {'name':'phone','price':'7000'},\n",
    "     {'name':'computer','price':'9000'},\n",
    "      {'name':'headphone','price':'2000'}\n",
    "]\n",
    "toplam=0\n",
    "for i in info:\n",
    "    p=int(i['price'])\n",
    "    toplam+=p\n",
    "print(toplam)"
   ]
  },
  {
   "cell_type": "code",
   "execution_count": 1,
   "metadata": {},
   "outputs": [
    {
     "name": "stdout",
     "output_type": "stream",
     "text": [
      "1\n",
      "2\n",
      "3\n",
      "4\n",
      "5\n",
      "6\n",
      "7\n",
      "8\n",
      "9\n"
     ]
    }
   ],
   "source": [
    "#while loop\n",
    "numbers=[1,2,3,4,5,6,7,8,9]\n",
    "i=0\n",
    "while i<len(numbers):\n",
    "    print(numbers[i])\n",
    "    i+=1\n",
    "\n"
   ]
  },
  {
   "cell_type": "code",
   "execution_count": 5,
   "metadata": {},
   "outputs": [
    {
     "name": "stdout",
     "output_type": "stream",
     "text": [
      "7\n",
      "9\n",
      "11\n",
      "13\n"
     ]
    }
   ],
   "source": [
    "#example\n",
    "start=int(input(\"Enter starting value: \"))\n",
    "end=int(input(\"Enter ending value: \"))\n",
    "while start<end:\n",
    "    start+=1\n",
    "    if start%2==1:\n",
    "        print(start)\n",
    "if start>end:\n",
    "    print(\"entered invalid value: \")\n"
   ]
  },
  {
   "cell_type": "code",
   "execution_count": 9,
   "metadata": {},
   "outputs": [
    {
     "name": "stdout",
     "output_type": "stream",
     "text": [
      "100\n",
      "99\n",
      "98\n",
      "97\n",
      "96\n",
      "95\n",
      "94\n",
      "93\n",
      "92\n",
      "91\n",
      "90\n",
      "89\n",
      "88\n",
      "87\n",
      "86\n",
      "85\n",
      "84\n",
      "83\n",
      "82\n",
      "81\n",
      "80\n",
      "79\n",
      "78\n",
      "77\n",
      "76\n",
      "75\n",
      "74\n",
      "73\n",
      "72\n",
      "71\n",
      "70\n",
      "69\n",
      "68\n",
      "67\n",
      "66\n",
      "65\n",
      "64\n",
      "63\n",
      "62\n",
      "61\n",
      "60\n",
      "59\n",
      "58\n",
      "57\n",
      "56\n",
      "55\n",
      "54\n",
      "53\n",
      "52\n",
      "51\n",
      "50\n",
      "49\n",
      "48\n",
      "47\n",
      "46\n",
      "45\n",
      "44\n",
      "43\n",
      "42\n",
      "41\n",
      "40\n",
      "39\n",
      "38\n",
      "37\n",
      "36\n",
      "35\n",
      "34\n",
      "33\n",
      "32\n",
      "31\n",
      "30\n",
      "29\n",
      "28\n",
      "27\n",
      "26\n",
      "25\n",
      "24\n",
      "23\n",
      "22\n",
      "21\n",
      "20\n",
      "19\n",
      "18\n",
      "17\n",
      "16\n",
      "15\n",
      "14\n",
      "13\n",
      "12\n",
      "11\n",
      "10\n",
      "9\n",
      "8\n",
      "7\n",
      "6\n",
      "5\n",
      "4\n",
      "3\n",
      "2\n",
      "1\n"
     ]
    }
   ],
   "source": [
    "i=100\n",
    "while i>0:\n",
    "    print(i)\n",
    "    i-=1"
   ]
  },
  {
   "cell_type": "code",
   "execution_count": 10,
   "metadata": {},
   "outputs": [
    {
     "name": "stdout",
     "output_type": "stream",
     "text": [
      "[6, 7, 8, 2, 9]\n"
     ]
    }
   ],
   "source": [
    "numbers=[]\n",
    "i=0\n",
    "while i<5:\n",
    "    value=int(input(\"Enter  number: \"))\n",
    "    numbers.append(value)\n",
    "    i+=1\n",
    "print(numbers)\n"
   ]
  },
  {
   "cell_type": "code",
   "execution_count": 18,
   "metadata": {},
   "outputs": [
    {
     "name": "stdout",
     "output_type": "stream",
     "text": [
      "how many product do you want? \n",
      "Product name: dklsf Product price: 54\n",
      "Product name: dkslşfk Product price: 48\n"
     ]
    }
   ],
   "source": [
    "print(\"how many product do you want? \")\n",
    "product=int(input(\"Enter-> \"))\n",
    "store=[]\n",
    "i=0\n",
    "while i<product:\n",
    "    name=input(\"Enter product name: \")\n",
    "    price=int(input(\"Enter profuct price\"))\n",
    "    store.append({\n",
    "        'name':name,\n",
    "        'price':price\n",
    "    })\n",
    "    i+=1\n",
    "for item in store:\n",
    "    print(f\"Product name: {item['name']} Product price: {item['price']}\")\n",
    "    "
   ]
  },
  {
   "cell_type": "code",
   "execution_count": 15,
   "metadata": {},
   "outputs": [
    {
     "name": "stdout",
     "output_type": "stream",
     "text": [
      "M\n",
      "i\n",
      "n\n",
      "e\n",
      "M\n",
      "i\n",
      "n\n",
      "e\n",
      "k\n",
      "o\n",
      "p\n",
      "i\n",
      "a\n"
     ]
    }
   ],
   "source": [
    "#break and continue\n",
    "name='Mineskopia'\n",
    "for letter in name:\n",
    "    if letter =='s':\n",
    "        break #dont print more\n",
    "    print(letter)\n",
    "for letter in name:\n",
    "    if letter =='s':\n",
    "        continue #skip and print more\n",
    "    print(letter)"
   ]
  },
  {
   "cell_type": "code",
   "execution_count": 2,
   "metadata": {},
   "outputs": [
    {
     "name": "stdout",
     "output_type": "stream",
     "text": [
      "0\n",
      "1\n",
      "2\n",
      "3\n",
      "4\n",
      "[16, 17, 18, 19, 20, 21, 22, 23]\n",
      "*********\n",
      "[1, 4, 9]\n",
      "*********\n",
      "17\n",
      "18\n",
      "19\n",
      "20\n",
      "21\n",
      "*********\n",
      "25\n",
      "30\n",
      "35\n",
      "40\n",
      "45\n",
      "50\n",
      "55\n",
      "*********\n",
      "[5, 6, 7, 8, 9]\n"
     ]
    }
   ],
   "source": [
    "#range\n",
    "for item in range(5):\n",
    "    print(item)\n",
    "numbers=[x for x in range(16,24)] #Values ​​from 16 to 24 are taken and \n",
    "                                  #the taken values ​​are assigned to x\n",
    "print(numbers)\n",
    "print(\"*********\")\n",
    "number=[x**2 for x in range(1,4)] #x^2\n",
    "print(number)\n",
    "print(\"*********\")\n",
    "for item in range(17,22): #(start,end)\n",
    "    print(item)\n",
    "print(\"*********\")\n",
    "for item in range(25,60,5): #(start,end,spacing)\n",
    "    print(item)\n",
    "print(\"*********\")\n",
    "print(list(range(5,10))) #like list\n"
   ]
  },
  {
   "cell_type": "code",
   "execution_count": 9,
   "metadata": {},
   "outputs": [
    {
     "name": "stdout",
     "output_type": "stream",
     "text": [
      "1. kisinin yasi 58\n",
      "2. kisinin yasi 64\n",
      "3. kisinin yasi 26\n",
      "4. kisinin yasi 20\n",
      "5. kisinin yasi 9\n"
     ]
    }
   ],
   "source": [
    "#age calculation\n",
    "years=[1966,1960,1998,2004,2015]\n",
    "age=[2024-year for year in years]\n",
    "i=0\n",
    "for x in age:\n",
    "    print(f\"{i+1}. kisinin yasi {x}\")\n",
    "    i+=1"
   ]
  },
  {
   "cell_type": "code",
   "execution_count": 8,
   "metadata": {},
   "outputs": [
    {
     "name": "stdout",
     "output_type": "stream",
     "text": [
      "['TEK', 2, 'TEK', 4, 'TEK', 6, 'TEK', 8, 'TEK']\n",
      "[(0, 0), (0, 1), (0, 2), (1, 0), (1, 1), (1, 2), (2, 0), (2, 1), (2, 2)]\n"
     ]
    }
   ],
   "source": [
    "#conditional range\n",
    "result = [x if x%2==0 else 'TEK' for x in range(1,10)]\n",
    "print(result)\n",
    "#/////////////////\n",
    "number=[(x,y) for x in range(3) for y in range(3)]\n",
    "print(number)"
   ]
  },
  {
   "cell_type": "code",
   "execution_count": 20,
   "metadata": {},
   "outputs": [
    {
     "name": "stdout",
     "output_type": "stream",
     "text": [
      "index: 0 letter: H\n",
      "index: 1 letter: e\n",
      "index: 2 letter: l\n",
      "index: 3 letter: l\n",
      "index: 4 letter: o\n"
     ]
    }
   ],
   "source": [
    "#enumerate\n",
    "greeting= 'Hello'\n",
    "for index,letter in enumerate(greeting):\n",
    "    print(f\"index: {index} letter: {letter}\")"
   ]
  },
  {
   "cell_type": "code",
   "execution_count": 24,
   "metadata": {},
   "outputs": [
    {
     "name": "stdout",
     "output_type": "stream",
     "text": [
      "[(1, 'a'), (2, 'b'), (3, 'c'), (4, 'd')]\n",
      "1\n",
      "2\n",
      "3\n",
      "4\n"
     ]
    }
   ],
   "source": [
    "#zip\n",
    "list1=[1,2,3,4]\n",
    "list2=['a','b','c','d']\n",
    "print(list(zip(list1,list2))) #combines lists\n",
    "for a,b in zip(list1,list2):\n",
    "    print(a)\n",
    "\n"
   ]
  },
  {
   "cell_type": "code",
   "execution_count": 5,
   "metadata": {},
   "outputs": [
    {
     "name": "stdout",
     "output_type": "stream",
     "text": [
      "How many rights do you want?\n",
      "Guess the number\n",
      "Up\n",
      "Guess the number\n",
      "Up\n",
      "Guess the number\n",
      "Down\n",
      "Guess the number\n",
      "Down\n",
      "Sorry, you didnt know :(\n"
     ]
    }
   ],
   "source": [
    "#example1\n",
    "import random\n",
    "random_number=random.randint(0,100)\n",
    "print(\"How many rights do you want?\")\n",
    "right=int(input(\"Enter rights-> \"))\n",
    "point=100/right\n",
    "while right>0:\n",
    "    print(\"Guess the number\")\n",
    "    guess=int(input(\"Enter number-> \"))\n",
    "    if guess==random_number:\n",
    "        print(\"Congrulations. You knew!!\")\n",
    "        print(f\"Your point-> {right*point}\")\n",
    "        break\n",
    "    elif guess<random_number:\n",
    "        print(\"Up\")\n",
    "        right-=1\n",
    "        \n",
    "    elif guess>random_number:\n",
    "        print(\"Down\")\n",
    "        right-=1\n",
    "    if right==0 :\n",
    "        print(\"Sorry, you didnt know :(\")\n",
    "\n",
    "\n"
   ]
  },
  {
   "cell_type": "code",
   "execution_count": 17,
   "metadata": {},
   "outputs": [
    {
     "name": "stdout",
     "output_type": "stream",
     "text": [
      "***** Is it prime number? *****\n",
      "5 is prime number\n"
     ]
    }
   ],
   "source": [
    "#example2\n",
    "print(\"***** Is it prime number? *****\")\n",
    "number=int(input(\"Enter number-> \"))\n",
    "i=2\n",
    "asalmi=True\n",
    "if number <= 1:\n",
    "    asalmi = False\n",
    "else:\n",
    "    for i in range(i,number):\n",
    "        if number%i==0:\n",
    "            asalmi=False\n",
    "            break\n",
    "if asalmi==True:\n",
    "    print(f\"{number} is prime number\")\n",
    "else:\n",
    "    print(\"Not\")"
   ]
  }
 ],
 "metadata": {
  "kernelspec": {
   "display_name": "Python 3",
   "language": "python",
   "name": "python3"
  },
  "language_info": {
   "codemirror_mode": {
    "name": "ipython",
    "version": 3
   },
   "file_extension": ".py",
   "mimetype": "text/x-python",
   "name": "python",
   "nbconvert_exporter": "python",
   "pygments_lexer": "ipython3",
   "version": "3.12.1"
  }
 },
 "nbformat": 4,
 "nbformat_minor": 2
}
