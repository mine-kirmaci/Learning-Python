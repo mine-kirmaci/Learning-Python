{
 "cells": [
  {
   "cell_type": "code",
   "execution_count": 13,
   "metadata": {},
   "outputs": [
    {
     "name": "stdout",
     "output_type": "stream",
     "text": [
      "[0, 1, 4, 9, 16, 25, 36, 49, 64, 81]\n",
      "[20, 50, 8, 136, 28]\n",
      "['A', 'H', 'M', 'E', 'T']\n",
      "['10', '25', '4', '68', '14']\n",
      "['ALI', 'VELI', 'AYSE', 'FATMA']\n"
     ]
    }
   ],
   "source": [
    "sayilar=[]\n",
    "liste=[10,25,4,68,14]\n",
    "for i in range(10):\n",
    "    sayilar.append(i)\n",
    "\n",
    "sayilar=[i*i for i in range(10)]\n",
    "sayilar1=[i*2 for i in liste]\n",
    "print(sayilar)\n",
    "print(sayilar1)\n",
    "\n",
    "isimler=['ali','veli','ayse','fatma']\n",
    "isim='ahmet'\n",
    "sonuc=[c.upper() for c in isim]\n",
    "sonuc1=[str(sayi) for sayi in liste]\n",
    "print(sonuc)\n",
    "print(sonuc1)\n",
    "sonuc2=[isim.upper() for isim in isimler]\n",
    "print(sonuc2)\n"
   ]
  },
  {
   "cell_type": "code",
   "execution_count": 30,
   "metadata": {},
   "outputs": [
    {
     "name": "stdout",
     "output_type": "stream",
     "text": [
      "[10, 'tek sayi', 4, 68, 14, 'tek sayi']\n",
      "[0, 2, 4, 6, 8]\n",
      "[1180.0, 2950.0, 472.0, 8024.0, 5310.0]\n",
      "[1180.0, 2950.0, 472.0, 8024.0, 5310.0, 'vergi hesaplanmadı']\n",
      "[(0, 0), (0, 1), (0, 2), (1, 0), (1, 1), (1, 2), (2, 0), (2, 1), (2, 2)]\n"
     ]
    }
   ],
   "source": [
    "#for item in liste:\n",
    "#    if kosul:\n",
    "#        expression\n",
    "\n",
    "liste=[10,25,4,68,14,45]\n",
    "kosul=[i if i%2==0 else \"tek sayi\" for i in liste]\n",
    "kosul1=[i for i in range(10) if i%2==0 ]\n",
    "print(kosul)\n",
    "print(kosul1)\n",
    "\n",
    "fiyatlar=[1000,2500,400,6800,4500,0]\n",
    "vergiler=[fiyat*1.18 for fiyat in fiyatlar if fiyat>0]\n",
    "print(vergiler)\n",
    "vergiler1=[fiyat*1.18 if fiyat>0 else \"vergi hesaplanmadı\" for fiyat in fiyatlar]\n",
    "print(vergiler1)\n",
    "\n",
    "sonuc=[(x,y) for x in range(3) for y in range(3)]\n",
    "print(sonuc)\n",
    "\n",
    "\n"
   ]
  },
  {
   "cell_type": "code",
   "execution_count": 32,
   "metadata": {},
   "outputs": [
    {
     "name": "stdout",
     "output_type": "stream",
     "text": [
      "[0, 12, 24, 36, 48, 60, 72, 84, 96]\n"
     ]
    }
   ],
   "source": [
    "bolunur_mu=[x for x in range(100) if x%12==0]\n",
    "print(bolunur_mu)"
   ]
  },
  {
   "cell_type": "code",
   "execution_count": 45,
   "metadata": {},
   "outputs": [
    {
     "name": "stdout",
     "output_type": "stream",
     "text": [
      "['fatma', 'ayse', 'veli', 'ali']\n"
     ]
    }
   ],
   "source": [
    "isimler=['Ali','Veli','Ayse','Fatma']\n",
    "sonuc = [isim.lower() for isim in isimler[::-1]]\n",
    "print(sonuc)"
   ]
  },
  {
   "cell_type": "code",
   "execution_count": 49,
   "metadata": {},
   "outputs": [
    {
     "name": "stdout",
     "output_type": "stream",
     "text": [
      "['2', '4', '0', '2', '0', '4']\n"
     ]
    }
   ],
   "source": [
    "ifade='mine2402kirmaci04'\n",
    "sonuc=[x for x in ifade if x in ['0','1','2','3','4','5','6','7','8','9']]\n",
    "print(sonuc)"
   ]
  },
  {
   "cell_type": "code",
   "execution_count": 57,
   "metadata": {},
   "outputs": [
    {
     "name": "stdout",
     "output_type": "stream",
     "text": [
      "[64, 58, 42, 32, 20]\n"
     ]
    }
   ],
   "source": [
    "import datetime\n",
    "suan=datetime.datetime.now()\n",
    "yillar=[1960,1966,1982,1992,2004]\n",
    "sonuc=[suan.year-x for x in yillar]\n",
    "print(sonuc)"
   ]
  },
  {
   "cell_type": "code",
   "execution_count": 59,
   "metadata": {},
   "outputs": [
    {
     "name": "stdout",
     "output_type": "stream",
     "text": [
      "['buzlanma tehlikesi', 0, 10, 20, 30, 40, 50, 'buzlanma tehlikesi', 'buzlanma tehlikesi']\n"
     ]
    }
   ],
   "source": [
    "dereceler=[-10,0,10,20,30,40,50,-5,-9] \n",
    "sonuc=[x if x>=0 else \"buzlanma tehlikesi\" for x in dereceler ]   \n",
    "print(sonuc)"
   ]
  }
 ],
 "metadata": {
  "kernelspec": {
   "display_name": "Python 3.12.1",
   "language": "python",
   "name": "myenv"
  },
  "language_info": {
   "codemirror_mode": {
    "name": "ipython",
    "version": 3
   },
   "file_extension": ".py",
   "mimetype": "text/x-python",
   "name": "python",
   "nbconvert_exporter": "python",
   "pygments_lexer": "ipython3",
   "version": "3.12.1"
  }
 },
 "nbformat": 4,
 "nbformat_minor": 2
}
