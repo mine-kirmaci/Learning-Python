{
 "cells": [
  {
   "cell_type": "code",
   "execution_count": 7,
   "metadata": {},
   "outputs": [
    {
     "name": "stdout",
     "output_type": "stream",
     "text": [
      "25\n",
      "6\n",
      "nohtyp\n",
      "22\n"
     ]
    }
   ],
   "source": [
    "#lambda\n",
    "sonuc=(lambda a: a**2)(5) \n",
    "print(sonuc)\n",
    "\n",
    "toplama= (lambda a,b,c:a+b+c)\n",
    "sonuc=toplama(1,2,3)\n",
    "print(sonuc)\n",
    "\n",
    "tersCevir=(lambda s:s[::-1])\n",
    "sonuc=tersCevir(\"python\")\n",
    "print(sonuc)\n",
    "\n",
    "def myFunc(n):\n",
    "    return lambda a:a*n\n",
    "\n",
    "multiply1=myFunc(2)\n",
    "print(multiply1(11))\n"
   ]
  },
  {
   "cell_type": "code",
   "execution_count": 15,
   "metadata": {},
   "outputs": [
    {
     "name": "stdout",
     "output_type": "stream",
     "text": [
      "[1, 4, 9, 16, 25]\n",
      "[1, 4, 9, 16, 25]\n",
      "['Ali', 'Veli', 'Ayse', 'Fatma']\n",
      "[3, 4, 4, 5]\n",
      "['ali', 'veli']\n"
     ]
    }
   ],
   "source": [
    "#Map\n",
    "sayilar=[1,2,3,4,5]\n",
    "str_sayilar=[\"1\",\"2\",\"3\",\"4\",\"5\"]\n",
    "isimler=[\"ali\",\"veli\",\"ayse\",\"fatma\"]\n",
    "kareleri=[]\n",
    "kullanicilar=[{\"ad\":\"ali\",\"soyad\":\"yilmaz\"},{\"ad\":\"veli\",\"soyad\":\"yilmaz\"}]\n",
    "\n",
    "def kareAl(sayi):\n",
    "    return sayi**2\n",
    "sonuc=list(map(kareAl,sayilar))\n",
    "print(sonuc)\n",
    "\n",
    "sonuc=list(map(lambda x:x**2,sayilar))\n",
    "print(sonuc)\n",
    "\n",
    "sonuc=list(map(int,str_sayilar)) \n",
    "\n",
    "sonuc=list(map(str.capitalize,isimler))\n",
    "print(sonuc)\n",
    "sonuc=list(map(len,isimler))\n",
    "print(sonuc)\n",
    "\n",
    "sonuc=list(map(lambda x:x[\"ad\"],kullanicilar))\n",
    "print(sonuc)"
   ]
  },
  {
   "cell_type": "code",
   "execution_count": 21,
   "metadata": {},
   "outputs": [
    {
     "name": "stdout",
     "output_type": "stream",
     "text": [
      "[18, 25, 35, 50, 60, 80]\n",
      "['ALI', 'AYSE', 'AHMET']\n"
     ]
    }
   ],
   "source": [
    "#filter\n",
    "yaslar=[18,25,35,50,12,60,80]\n",
    "isimler=[\"ali\",\"veli\",\"ayse\",\"fatma\",\"ahmet\"]\n",
    "sonuc=list(filter(lambda x: x>=18,yaslar))\n",
    "print(sonuc)\n",
    "\n",
    "sonuc=list(map(lambda n: n.upper(), filter(lambda n: n[0]=='a',isimler)))\n",
    "print(sonuc)"
   ]
  }
 ],
 "metadata": {
  "kernelspec": {
   "display_name": "Python 3.12.1",
   "language": "python",
   "name": "myenv"
  },
  "language_info": {
   "codemirror_mode": {
    "name": "ipython",
    "version": 3
   },
   "file_extension": ".py",
   "mimetype": "text/x-python",
   "name": "python",
   "nbconvert_exporter": "python",
   "pygments_lexer": "ipython3",
   "version": "3.12.1"
  }
 },
 "nbformat": 4,
 "nbformat_minor": 2
}
