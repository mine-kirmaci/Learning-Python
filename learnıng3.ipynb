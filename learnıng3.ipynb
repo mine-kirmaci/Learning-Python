{
 "cells": [
  {
   "cell_type": "code",
   "execution_count": 3,
   "metadata": {},
   "outputs": [
    {
     "name": "stdout",
     "output_type": "stream",
     "text": [
      "20\n",
      " İyi Aksamlar\n"
     ]
    }
   ],
   "source": [
    "\n",
    "def yil():\n",
    "    import datetime\n",
    "    return datetime.datetime.now().year\n",
    "def saat():\n",
    "    import datetime\n",
    "    return datetime.datetime.now().hour\n",
    "def yasHesapla():\n",
    "    return yil()-2004\n",
    "def selamla():\n",
    "    if saat()<12:\n",
    "        return \"Günaydin\"\n",
    "    else:\n",
    "        return \" İyi Aksamlar\"\n",
    "sonuc=yasHesapla()\n",
    "print(sonuc)\n",
    "print(selamla())"
   ]
  },
  {
   "cell_type": "code",
   "execution_count": 5,
   "metadata": {},
   "outputs": [
    {
     "name": "stdout",
     "output_type": "stream",
     "text": [
      "merhaba mine\n"
     ]
    }
   ],
   "source": [
    "def selamla(isim):\n",
    "    return \"merhaba \" +  isim\n",
    "\n",
    "sonuc=selamla(\"mine\")\n",
    "print(sonuc)"
   ]
  },
  {
   "cell_type": "code",
   "execution_count": 18,
   "metadata": {},
   "outputs": [
    {
     "name": "stdout",
     "output_type": "stream",
     "text": [
      "İsminiz ne?\n",
      "Dogum tarihiniz kac?\n",
      "Merhaba mine emekliliginize 45 yil kalmistir\n"
     ]
    }
   ],
   "source": [
    "import datetime\n",
    "simdi=datetime.datetime.now().year\n",
    "def yasHesapla(dogumYili):\n",
    "    return simdi-dogumYili \n",
    "def emeklilik(name,age):\n",
    "    if 65-yasHesapla(age)>0:\n",
    "        print(f\"Merhaba {name} emekliliginize {65-yasHesapla(age)} yil kalmistir\")\n",
    "    else: \n",
    "        print(f\"Merhaba {name} emekliliginiz zaten baslamis\")\n",
    "print(\"İsminiz ne?\")\n",
    "isim=input()\n",
    "print(\"Dogum tarihiniz kac?\")\n",
    "tarih=int(input())\n",
    "yasHesapla(tarih)\n",
    "emeklilik(isim,tarih)"
   ]
  },
  {
   "cell_type": "code",
   "execution_count": 27,
   "metadata": {},
   "outputs": [
    {
     "name": "stdout",
     "output_type": "stream",
     "text": [
      "Kac defa yazilsin?\n",
      "4\n",
      "4\n",
      "4\n",
      "4\n"
     ]
    }
   ],
   "source": [
    "def tekrar(sayi):\n",
    "    for i in range(sayi):\n",
    "        print(sayi)\n",
    "print(\"Kac defa yazilsin?\")\n",
    "x=int(input())\n",
    "tekrar(x)\n"
   ]
  },
  {
   "cell_type": "code",
   "execution_count": 26,
   "metadata": {},
   "outputs": [
    {
     "name": "stdout",
     "output_type": "stream",
     "text": [
      "Kenar1:\n",
      "Kenar2:\n",
      "Alan: 56\n",
      "Cevre: 30\n"
     ]
    }
   ],
   "source": [
    "def alan(kenar1, kenar2):\n",
    "    return kenar1 * kenar2\n",
    "\n",
    "def cevre(kenar1, kenar2):\n",
    "    return 2 * (kenar1 + kenar2)\n",
    "\n",
    "print(\"Kenar1:\")\n",
    "k1 = int(input())\n",
    "print(\"Kenar2:\")\n",
    "k2 = int(input())\n",
    "print(\"Alan:\", alan(k1, k2))\n",
    "print(\"Cevre:\", cevre(k1, k2))\n"
   ]
  },
  {
   "cell_type": "code",
   "execution_count": 3,
   "metadata": {},
   "outputs": [
    {
     "name": "stdout",
     "output_type": "stream",
     "text": [
      "Yazi mi Tura mi?\n"
     ]
    },
    {
     "data": {
      "text/plain": [
       "'Tebrikler kazandiniz'"
      ]
     },
     "execution_count": 3,
     "metadata": {},
     "output_type": "execute_result"
    }
   ],
   "source": [
    "import random\n",
    "def yaziTura(sec):\n",
    "    secenekler=[\"yazi\",\"tura\"]\n",
    "    secilen=random.choice(secenekler)\n",
    "    if sec==secilen:\n",
    "        return \"Tebrikler kazandiniz\"\n",
    "    else: \n",
    "        return \"Maalesef kaybettiniz\"\n",
    "\n",
    "print(\"Yazi mi Tura mi?\")\n",
    "txt=input()\n",
    "yaziTura(txt)\n",
    "\n",
    "\n"
   ]
  },
  {
   "cell_type": "code",
   "execution_count": 12,
   "metadata": {},
   "outputs": [
    {
     "name": "stdout",
     "output_type": "stream",
     "text": [
      "Birinci sayiyi gir: \n",
      "İkinci sayiyi gir: \n"
     ]
    },
    {
     "data": {
      "text/plain": [
       "[5]"
      ]
     },
     "execution_count": 12,
     "metadata": {},
     "output_type": "execute_result"
    }
   ],
   "source": [
    "def asalBul(sayi1,sayi2):\n",
    "    sonuc=[]\n",
    "    for i in range(sayi1,sayi2):\n",
    "        asal_mi=True\n",
    "        for j in range(2,i):\n",
    "            if(i%j==0):\n",
    "                asal_mi=False\n",
    "                break\n",
    "        if asal_mi:\n",
    "            sonuc.append(i)\n",
    "    return sonuc\n",
    "print(\"Birinci sayiyi gir: \")\n",
    "s1=int(input())\n",
    "print(\"İkinci sayiyi gir: \")\n",
    "s2=int(input())\n",
    "asalBul(s1,s2)"
   ]
  },
  {
   "cell_type": "code",
   "execution_count": 5,
   "metadata": {},
   "outputs": [
    {
     "name": "stdout",
     "output_type": "stream",
     "text": [
      "Bir sayi gir\n",
      "[1, 2, 4, 8]\n"
     ]
    }
   ],
   "source": [
    "def tamBolen(sayi1):\n",
    "    sonuc=[]\n",
    "    for i in range(1,sayi1+1):\n",
    "        if sayi1%i==0:\n",
    "            sonuc.append(i)\n",
    "        else:\n",
    "            continue\n",
    "    print(sonuc)\n",
    "\n",
    "print(\"Bir sayi gir\")\n",
    "s=int(input())\n",
    "tamBolen(s)"
   ]
  },
  {
   "cell_type": "code",
   "execution_count": 13,
   "metadata": {},
   "outputs": [
    {
     "name": "stdout",
     "output_type": "stream",
     "text": [
      "İyi Günler Ahmet\n",
      "Merhaba Mehmet\n"
     ]
    }
   ],
   "source": [
    "def selamlama(isim,mesaj=\"İyi Günler\"):\n",
    "    print(f\"{mesaj} {isim}\")\n",
    "selamlama(\"Ahmet\")\n",
    "selamlama(\"Mehmet\",\"Merhaba\")"
   ]
  },
  {
   "cell_type": "code",
   "execution_count": 16,
   "metadata": {},
   "outputs": [
    {
     "name": "stdout",
     "output_type": "stream",
     "text": [
      "Ypur  name is Ahmet Yilmaz\n"
     ]
    }
   ],
   "source": [
    "#arguments . parameters\n",
    "def full_name(first_name,last_name):\n",
    "    return f\"Ypur  name is {first_name} {last_name}\"\n",
    "sonuc=full_name(\"Ahmet\",\"Yilmaz\")\n",
    "sonuc=full_name(last_name=\"Yilmaz\",first_name=\"Ahmet\")\n",
    "print(sonuc)"
   ]
  },
  {
   "cell_type": "code",
   "execution_count": 7,
   "metadata": {},
   "outputs": [
    {
     "name": "stdout",
     "output_type": "stream",
     "text": [
      "<class 'tuple'>\n",
      "150\n"
     ]
    }
   ],
   "source": [
    "#*args\n",
    "'''\n",
    "liste=[10,20,30]\n",
    "def toplam(sayilar):\n",
    "    sonuc=0\n",
    "    for i in sayilar:\n",
    "        sonuc+=i\n",
    "    return sonuc\n",
    "print(toplam(liste))\n",
    "'''\n",
    "def toplam(*args):\n",
    "    print(type(args))\n",
    "    sonuc=0\n",
    "    for i in args:\n",
    "        sonuc+=i\n",
    "    return sonuc\n",
    "print(toplam(10,20,30,40,50))\n",
    "\n"
   ]
  },
  {
   "cell_type": "code",
   "execution_count": 14,
   "metadata": {},
   "outputs": [
    {
     "name": "stdout",
     "output_type": "stream",
     "text": [
      "<class 'tuple'>\n",
      "()\n",
      "username: ahmet\n",
      "password: 1234\n",
      "<class 'dict'>\n",
      "{'username': 'ahmet', 'password': '1234'}\n"
     ]
    }
   ],
   "source": [
    "#*kwargs\n",
    "def displayUser(*args):\n",
    "    print(type(args))\n",
    "    print(args)\n",
    "displayUser()\n",
    "\n",
    "def displayUser(**kwargs):\n",
    "    for key,value in kwargs.items():\n",
    "        print(f\"{key}: {value}\")\n",
    "    print(type(kwargs))\n",
    "    print(kwargs)\n",
    "displayUser(username=\"ahmet\",password=\"1234\")\n",
    "\n",
    "\n"
   ]
  },
  {
   "cell_type": "code",
   "execution_count": 15,
   "metadata": {},
   "outputs": [
    {
     "name": "stdout",
     "output_type": "stream",
     "text": [
      "10\n",
      "20\n",
      "30\n",
      "(40, 50, 60, 70, 80, 90, 100)\n",
      "{'key1': 'value1', 'key2': 'value2'}\n"
     ]
    }
   ],
   "source": [
    "def myFunc(a,b,c,*args,**kwargs):\n",
    "    print(a)\n",
    "    print(b)\n",
    "    print(c)\n",
    "    print(args)\n",
    "    print(kwargs) \n",
    "myFunc(10,20,30,40,50,60,70,80,90,100,key1=\"value1\",key2=\"value2\")"
   ]
  },
  {
   "cell_type": "code",
   "execution_count": 20,
   "metadata": {},
   "outputs": [
    {
     "name": "stdout",
     "output_type": "stream",
     "text": [
      "En buyuk sayi: 78\n"
     ]
    }
   ],
   "source": [
    "def buyukMu(*args):\n",
    "    deger=0\n",
    "    for x in args:\n",
    "        if x>deger:\n",
    "            deger=x\n",
    "    return \"En buyuk sayi: \"+str(deger)   \n",
    "\n",
    "liste=[14,25,6,78,36,21,29]\n",
    "print(buyukMu(*liste))\n"
   ]
  },
  {
   "cell_type": "code",
   "execution_count": 30,
   "metadata": {},
   "outputs": [
    {
     "name": "stdout",
     "output_type": "stream",
     "text": [
      "String bir deger giriniz: \n",
      "k karakteri 1 kez tekrarlanmistir\n",
      "e karakteri 3 kez tekrarlanmistir\n",
      "l karakteri 2 kez tekrarlanmistir\n",
      "i karakteri 1 kez tekrarlanmistir\n",
      "m karakteri 1 kez tekrarlanmistir\n",
      "e karakteri 3 kez tekrarlanmistir\n",
      "l karakteri 2 kez tekrarlanmistir\n",
      "e karakteri 3 kez tekrarlanmistir\n",
      "r karakteri 1 kez tekrarlanmistir\n"
     ]
    }
   ],
   "source": [
    "\n",
    "#karakterler kaçar kez tekrarlanmış bul\n",
    "def tekrarBul(*args):\n",
    "    for i in args:\n",
    "        tekrar=0\n",
    "        for j in args:\n",
    "            if i==j:\n",
    "                tekrar+=1\n",
    "        print(f\"{i} karakteri {tekrar} kez tekrarlanmistir\")\n",
    "        \n",
    "\n",
    "print(\"String bir deger giriniz: \")\n",
    "kelime=input() \n",
    "tekrarBul(*kelime)"
   ]
  }
 ],
 "metadata": {
  "kernelspec": {
   "display_name": "Python 3.12.1",
   "language": "python",
   "name": "myenv"
  },
  "language_info": {
   "codemirror_mode": {
    "name": "ipython",
    "version": 3
   },
   "file_extension": ".py",
   "mimetype": "text/x-python",
   "name": "python",
   "nbconvert_exporter": "python",
   "pygments_lexer": "ipython3",
   "version": "3.12.1"
  }
 },
 "nbformat": 4,
 "nbformat_minor": 2
}
